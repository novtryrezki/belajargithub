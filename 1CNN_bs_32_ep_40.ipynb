{
  "cells": [
    {
      "cell_type": "markdown",
      "metadata": {
        "id": "view-in-github",
        "colab_type": "text"
      },
      "source": [
        "<a href=\"https://colab.research.google.com/github/novtryrezki/belajargithub/blob/main/1CNN_bs_32_ep_40.ipynb\" target=\"_parent\"><img src=\"https://colab.research.google.com/assets/colab-badge.svg\" alt=\"Open In Colab\"/></a>"
      ]
    },
    {
      "cell_type": "code",
      "execution_count": 1,
      "metadata": {
        "id": "Gj0QELQHjUVZ"
      },
      "outputs": [],
      "source": [
        "import os\n",
        "import zipfile\n",
        "import random\n",
        "import shutil\n",
        "import numpy as np\n",
        "import tensorflow as tf\n",
        "import pandas as pd\n",
        "from google.colab import drive\n",
        "from sklearn.model_selection import train_test_split"
      ]
    },
    {
      "cell_type": "code",
      "execution_count": 2,
      "metadata": {
        "colab": {
          "base_uri": "https://localhost:8080/"
        },
        "id": "HXtZwYwdjXH4",
        "outputId": "cd055d98-e2cf-4a6d-d03b-df179c075494"
      },
      "outputs": [
        {
          "output_type": "stream",
          "name": "stdout",
          "text": [
            "Drive already mounted at /content/drive; to attempt to forcibly remount, call drive.mount(\"/content/drive\", force_remount=True).\n"
          ]
        }
      ],
      "source": [
        "# Melakukan mount pada Google Drive\n",
        "drive.mount('/content/drive')\n",
        "\n",
        "# Menentukan path file ZIP di Google Drive\n",
        "zip_path = '/content/drive/MyDrive/images.zip'\n",
        "\n",
        "# Membuat objek zip_ref\n",
        "zip_ref = zipfile.ZipFile(zip_path, 'r')\n",
        "\n",
        "# Mengekstrak file ZIP\n",
        "extract_path ='/content/images'\n",
        "zip_ref.extractall(extract_path)\n",
        "\n",
        "# Tutup objek zip_ref setelah selesai\n",
        "zip_ref.close()"
      ]
    },
    {
      "cell_type": "code",
      "execution_count": 3,
      "metadata": {
        "colab": {
          "base_uri": "https://localhost:8080/"
        },
        "id": "P9SpMwZxCMpv",
        "outputId": "3752d17b-d6bf-4be2-f8a2-72a869199442"
      },
      "outputs": [
        {
          "output_type": "stream",
          "name": "stdout",
          "text": [
            "Daftar Angka pada Dataset Train yaitu :  ['angka 0', 'angka 1', 'angka 2', 'angka 3', 'angka 4', 'angka 5', 'angka 6', 'angka 7', 'angka 8', 'angka 9']\n",
            "Daftar Angka pada Dataset Test yaitu :  ['angka 0', 'angka 1', 'angka 2', 'angka 3', 'angka 4', 'angka 5', 'angka 6', 'angka 7', 'angka 8', 'angka 9']\n"
          ]
        }
      ],
      "source": [
        "# Mendefinisikan path direktori dataset\n",
        "dataset_dir = os.path.join(extract_path, 'images')\n",
        "train_dir = os.path.join(dataset_dir, 'train')\n",
        "test_dir = os.path.join(dataset_dir, 'test')\n",
        "list_train = sorted(os.listdir(train_dir))\n",
        "list_test = sorted(os.listdir(test_dir))\n",
        "\n",
        "print(\"Daftar Angka pada Dataset Train yaitu : \", list_train)\n",
        "print(\"Daftar Angka pada Dataset Test yaitu : \", list_test)"
      ]
    },
    {
      "cell_type": "code",
      "execution_count": 4,
      "metadata": {
        "colab": {
          "base_uri": "https://localhost:8080/"
        },
        "id": "JycQg0kGCHHe",
        "outputId": "b5513b37-352b-49ef-8180-38d03bb4b5ff"
      },
      "outputs": [
        {
          "output_type": "stream",
          "name": "stdout",
          "text": [
            "Jumlah gambar di Dataset Train: 1763\n",
            "Jumlah gambar di Dataset Test: 445\n"
          ]
        }
      ],
      "source": [
        "def count_images(directory):\n",
        "    return sum(1 for file in os.listdir(directory) if file.endswith(('.jpg', '.jpeg', '.png', '.gif')))\n",
        "\n",
        "# Menghitung jumlah gambar di data train\n",
        "train_image_count = sum(count_images(os.path.join(train_dir, angka)) for angka in list_train)\n",
        "\n",
        "# Menghitung jumlah gambar di data test\n",
        "test_image_count = sum(count_images(os.path.join(test_dir, angka)) for angka in list_test)\n",
        "\n",
        "print(f\"Jumlah gambar di Dataset Train: {train_image_count}\")\n",
        "print(f\"Jumlah gambar di Dataset Test: {test_image_count}\")"
      ]
    },
    {
      "cell_type": "markdown",
      "metadata": {
        "id": "Cs-YBymEElj8"
      },
      "source": [
        "# Preprocessing"
      ]
    },
    {
      "cell_type": "code",
      "execution_count": 5,
      "metadata": {
        "id": "j-iPjxpXF_bf"
      },
      "outputs": [],
      "source": [
        "import cv2\n",
        "\n",
        "def resize_images(directory, target_resolution):\n",
        "    for angka in os.listdir(directory):\n",
        "        angka_dir = os.path.join(directory, angka)\n",
        "        for file_name in os.listdir(angka_dir):\n",
        "            file_path = os.path.join(angka_dir, file_name)\n",
        "            img = cv2.imread(file_path)\n",
        "            resized_img = cv2.resize(img, (target_resolution, target_resolution))\n",
        "            cv2.imwrite(file_path, resized_img)\n",
        "\n",
        "target_resolution = 32\n",
        "resize_images(train_dir, target_resolution)\n",
        "resize_images(test_dir, target_resolution)"
      ]
    },
    {
      "cell_type": "code",
      "execution_count": 6,
      "metadata": {
        "colab": {
          "base_uri": "https://localhost:8080/"
        },
        "id": "MrR6ROkiF9Uj",
        "outputId": "d50a0f1d-6a93-47f1-9285-cf1585f4e4bd"
      },
      "outputs": [
        {
          "output_type": "stream",
          "name": "stdout",
          "text": [
            "Found 1763 images belonging to 10 classes.\n",
            "Found 445 images belonging to 10 classes.\n"
          ]
        }
      ],
      "source": [
        "from tensorflow.keras.preprocessing.image import ImageDataGenerator\n",
        "\n",
        "# Membuat generator data dengan augmentasi\n",
        "image_size = (32, 32)\n",
        "batch_size = 32\n",
        "\n",
        "train_datagen = ImageDataGenerator(\n",
        "    rescale = 1./255,\n",
        "    rotation_range = 90,\n",
        "    width_shift_range = 0.2,\n",
        "    height_shift_range = 0.2,\n",
        "    zoom_range = 0.2,\n",
        ")\n",
        "\n",
        "test_datagen = ImageDataGenerator(\n",
        "    rescale=1./255,\n",
        ")\n",
        "\n",
        "train_generator = train_datagen.flow_from_directory(\n",
        "    train_dir,\n",
        "    target_size=image_size,\n",
        "    batch_size=batch_size,\n",
        "    class_mode='categorical',\n",
        "    color_mode='grayscale'\n",
        ")\n",
        "\n",
        "test_generator = test_datagen.flow_from_directory(\n",
        "    test_dir,\n",
        "    target_size=image_size,\n",
        "    batch_size=batch_size,\n",
        "    class_mode='categorical',\n",
        "    color_mode='grayscale'\n",
        ")"
      ]
    },
    {
      "cell_type": "markdown",
      "metadata": {
        "id": "gPqE7ywQJ01c"
      },
      "source": [
        "# Membuat Model CNN"
      ]
    },
    {
      "cell_type": "code",
      "execution_count": 13,
      "metadata": {
        "id": "SvNzs3QB71R6"
      },
      "outputs": [],
      "source": [
        "from tensorflow.keras.models import Sequential\n",
        "from tensorflow.keras.layers import Conv2D, AveragePooling2D, Flatten, Dense\n",
        "import math\n",
        "\n",
        "img_size = 32*32*1\n",
        "\n",
        "# Perhitungan jumlah neuron pada lapisan tersembunyi\n",
        "hidden_neurons = int(math.sqrt(img_size * 10))\n",
        "\n",
        "model1c = Sequential()\n",
        "model1c.add(Conv2D(32, (3, 3), activation='relu', input_shape=(32, 32, 1)))\n",
        "model1c.add(AveragePooling2D((2, 2)))\n",
        "model1c.add(Conv2D(64, (3, 3), activation='relu'))\n",
        "model1c.add(AveragePooling2D((2, 2)))\n",
        "model1c.add(Flatten())\n",
        "model1c.add(Dense(hidden_neurons, activation='relu'))\n",
        "model1c.add(Dense(10, activation='softmax'))\n",
        "\n",
        "model1c.compile(optimizer='SGD', loss='categorical_crossentropy', metrics=['accuracy'])"
      ]
    },
    {
      "cell_type": "code",
      "execution_count": 14,
      "metadata": {
        "id": "RfHd4NJznjOh",
        "colab": {
          "base_uri": "https://localhost:8080/"
        },
        "outputId": "aab05abd-58f7-484a-f770-5850fd3091e0"
      },
      "outputs": [
        {
          "output_type": "stream",
          "name": "stdout",
          "text": [
            "Model: \"sequential_1\"\n",
            "_________________________________________________________________\n",
            " Layer (type)                Output Shape              Param #   \n",
            "=================================================================\n",
            " conv2d_2 (Conv2D)           (None, 30, 30, 32)        320       \n",
            "                                                                 \n",
            " average_pooling2d_2 (Avera  (None, 15, 15, 32)        0         \n",
            " gePooling2D)                                                    \n",
            "                                                                 \n",
            " conv2d_3 (Conv2D)           (None, 13, 13, 64)        18496     \n",
            "                                                                 \n",
            " average_pooling2d_3 (Avera  (None, 6, 6, 64)          0         \n",
            " gePooling2D)                                                    \n",
            "                                                                 \n",
            " flatten_1 (Flatten)         (None, 2304)              0         \n",
            "                                                                 \n",
            " dense_2 (Dense)             (None, 101)               232805    \n",
            "                                                                 \n",
            " dense_3 (Dense)             (None, 10)                1020      \n",
            "                                                                 \n",
            "=================================================================\n",
            "Total params: 252641 (986.88 KB)\n",
            "Trainable params: 252641 (986.88 KB)\n",
            "Non-trainable params: 0 (0.00 Byte)\n",
            "_________________________________________________________________\n"
          ]
        }
      ],
      "source": [
        "model1c.summary()"
      ]
    },
    {
      "cell_type": "code",
      "execution_count": 15,
      "metadata": {
        "id": "I_Klj8ReYASB",
        "colab": {
          "base_uri": "https://localhost:8080/"
        },
        "outputId": "6fddfe8d-8be6-4dbd-98de-a28afcc9168d"
      },
      "outputs": [
        {
          "output_type": "stream",
          "name": "stdout",
          "text": [
            "Epoch 1/40\n",
            "56/56 [==============================] - 3s 48ms/step - loss: 2.1331 - accuracy: 0.2717\n",
            "Epoch 2/40\n",
            "56/56 [==============================] - 4s 70ms/step - loss: 2.0199 - accuracy: 0.2927\n",
            "Epoch 3/40\n",
            "56/56 [==============================] - 2s 44ms/step - loss: 2.0132 - accuracy: 0.2898\n",
            "Epoch 4/40\n",
            "56/56 [==============================] - 3s 45ms/step - loss: 2.0085 - accuracy: 0.2989\n",
            "Epoch 5/40\n",
            "56/56 [==============================] - 3s 44ms/step - loss: 1.9984 - accuracy: 0.3256\n",
            "Epoch 6/40\n",
            "56/56 [==============================] - 4s 66ms/step - loss: 1.9954 - accuracy: 0.3324\n",
            "Epoch 7/40\n",
            "56/56 [==============================] - 3s 61ms/step - loss: 1.9876 - accuracy: 0.3483\n",
            "Epoch 8/40\n",
            "56/56 [==============================] - 2s 44ms/step - loss: 1.9840 - accuracy: 0.3443\n",
            "Epoch 9/40\n",
            "56/56 [==============================] - 3s 45ms/step - loss: 1.9713 - accuracy: 0.3471\n",
            "Epoch 10/40\n",
            "56/56 [==============================] - 4s 72ms/step - loss: 1.9698 - accuracy: 0.3449\n",
            "Epoch 11/40\n",
            "56/56 [==============================] - 2s 43ms/step - loss: 1.9636 - accuracy: 0.3403\n",
            "Epoch 12/40\n",
            "56/56 [==============================] - 3s 49ms/step - loss: 1.9538 - accuracy: 0.3477\n",
            "Epoch 13/40\n",
            "56/56 [==============================] - 3s 61ms/step - loss: 1.9560 - accuracy: 0.3369\n",
            "Epoch 14/40\n",
            "56/56 [==============================] - 3s 56ms/step - loss: 1.9407 - accuracy: 0.3590\n",
            "Epoch 15/40\n",
            "56/56 [==============================] - 3s 45ms/step - loss: 1.9372 - accuracy: 0.3511\n",
            "Epoch 16/40\n",
            "56/56 [==============================] - 3s 45ms/step - loss: 1.9258 - accuracy: 0.3505\n",
            "Epoch 17/40\n",
            "56/56 [==============================] - 3s 58ms/step - loss: 1.9148 - accuracy: 0.3573\n",
            "Epoch 18/40\n",
            "56/56 [==============================] - 3s 44ms/step - loss: 1.9149 - accuracy: 0.3545\n",
            "Epoch 19/40\n",
            "56/56 [==============================] - 2s 44ms/step - loss: 1.9105 - accuracy: 0.3585\n",
            "Epoch 20/40\n",
            "56/56 [==============================] - 3s 44ms/step - loss: 1.9025 - accuracy: 0.3528\n",
            "Epoch 21/40\n",
            "56/56 [==============================] - 3s 54ms/step - loss: 1.9138 - accuracy: 0.3556\n",
            "Epoch 22/40\n",
            "56/56 [==============================] - 2s 44ms/step - loss: 1.8955 - accuracy: 0.3556\n",
            "Epoch 23/40\n",
            "56/56 [==============================] - 3s 45ms/step - loss: 1.9121 - accuracy: 0.3454\n",
            "Epoch 24/40\n",
            "56/56 [==============================] - 3s 45ms/step - loss: 1.9125 - accuracy: 0.3437\n",
            "Epoch 25/40\n",
            "56/56 [==============================] - 5s 84ms/step - loss: 1.9084 - accuracy: 0.3551\n",
            "Epoch 26/40\n",
            "56/56 [==============================] - 3s 53ms/step - loss: 1.8935 - accuracy: 0.3534\n",
            "Epoch 27/40\n",
            "56/56 [==============================] - 3s 44ms/step - loss: 1.8991 - accuracy: 0.3534\n",
            "Epoch 28/40\n",
            "56/56 [==============================] - 3s 47ms/step - loss: 1.8949 - accuracy: 0.3619\n",
            "Epoch 29/40\n",
            "56/56 [==============================] - 3s 45ms/step - loss: 1.8797 - accuracy: 0.3562\n",
            "Epoch 30/40\n",
            "56/56 [==============================] - 3s 45ms/step - loss: 1.8658 - accuracy: 0.3653\n",
            "Epoch 31/40\n",
            "56/56 [==============================] - 4s 74ms/step - loss: 1.8884 - accuracy: 0.3539\n",
            "Epoch 32/40\n",
            "56/56 [==============================] - 3s 45ms/step - loss: 1.8767 - accuracy: 0.3613\n",
            "Epoch 33/40\n",
            "56/56 [==============================] - 3s 45ms/step - loss: 1.8683 - accuracy: 0.3613\n",
            "Epoch 34/40\n",
            "56/56 [==============================] - 3s 51ms/step - loss: 1.8799 - accuracy: 0.3573\n",
            "Epoch 35/40\n",
            "56/56 [==============================] - 3s 45ms/step - loss: 1.8469 - accuracy: 0.3721\n",
            "Epoch 36/40\n",
            "56/56 [==============================] - 2s 44ms/step - loss: 1.8534 - accuracy: 0.3727\n",
            "Epoch 37/40\n",
            "56/56 [==============================] - 3s 45ms/step - loss: 1.8516 - accuracy: 0.3744\n",
            "Epoch 38/40\n",
            "56/56 [==============================] - 3s 53ms/step - loss: 1.8432 - accuracy: 0.3772\n",
            "Epoch 39/40\n",
            "56/56 [==============================] - 3s 45ms/step - loss: 1.8422 - accuracy: 0.3676\n",
            "Epoch 40/40\n",
            "56/56 [==============================] - 3s 45ms/step - loss: 1.8459 - accuracy: 0.3732\n"
          ]
        }
      ],
      "source": [
        "history = model1c.fit(train_generator, epochs=40, verbose = 1)"
      ]
    },
    {
      "cell_type": "markdown",
      "metadata": {
        "id": "6VOcIXg0IvCs"
      },
      "source": [
        "#Matriks Konfusi"
      ]
    },
    {
      "cell_type": "code",
      "execution_count": 16,
      "metadata": {
        "colab": {
          "base_uri": "https://localhost:8080/",
          "height": 617
        },
        "id": "Lz5lA0bDIxJg",
        "outputId": "2c330b3e-fa36-42fa-e947-809d2f1abd22"
      },
      "outputs": [
        {
          "output_type": "stream",
          "name": "stdout",
          "text": [
            "14/14 [==============================] - 0s 19ms/step\n"
          ]
        },
        {
          "output_type": "display_data",
          "data": {
            "text/plain": [
              "<Figure size 800x600 with 2 Axes>"
            ],
            "image/png": "[encoded data removed]"
          },
          "metadata": {}
        }
      ],
      "source": [
        "from sklearn.metrics import confusion_matrix, classification_report\n",
        "import seaborn as sns\n",
        "import matplotlib.pyplot as plt\n",
        "\n",
        "# Fungsi untuk mendapatkan prediksi model dan label sebenarnya\n",
        "def get_predictions_and_labels(model, data_generator):\n",
        "    predictions = model.predict(data_generator)\n",
        "    true_classes = data_generator.classes\n",
        "    return predictions, true_classes\n",
        "\n",
        "# Mendapatkan prediksi dan label sebenarnya untuk data uji\n",
        "y_pred_prob, y_true = get_predictions_and_labels(model1c, test_generator)\n",
        "y_pred = np.argmax(y_pred_prob, axis=1)\n",
        "\n",
        "# Membuat matriks konfusi\n",
        "cf_matrix = confusion_matrix(y_true, y_pred)\n",
        "\n",
        "# Membuat visualisasi matriks konfusi\n",
        "fig, ax = plt.subplots(figsize=(8, 6))\n",
        "sns.heatmap(cf_matrix, annot=True, fmt='g', cmap='Blues', ax=ax)\n",
        "\n",
        "# Menetapkan label dan judul\n",
        "ax.set_title('Confusion Matrix with labels')\n",
        "ax.set_xlabel('Predicted Values')\n",
        "ax.set_ylabel('Actual Values')\n",
        "\n",
        "class_labels = list(test_generator.class_indices.keys())\n",
        "\n",
        "# Menetapkan label pada sumbu x dan y sesuai dengan jenis kelas\n",
        "ax.xaxis.set_ticklabels(class_labels, rotation=45)\n",
        "ax.yaxis.set_ticklabels(class_labels, rotation=45)\n",
        "\n",
        "# Menampilkan visualisasi Matriks Konfusi\n",
        "plt.show()"
      ]
    },
    {
      "cell_type": "code",
      "execution_count": 17,
      "metadata": {
        "colab": {
          "base_uri": "https://localhost:8080/"
        },
        "id": "S7iwBJlGZEUM",
        "outputId": "a1f25367-24ee-4636-edbc-7c7239eb06b7"
      },
      "outputs": [
        {
          "output_type": "stream",
          "name": "stdout",
          "text": [
            "AUC ROC Score: 0.49634216699735356\n",
            "Accuracy: 0.2606741573033708\n"
          ]
        }
      ],
      "source": [
        "from sklearn.metrics import roc_auc_score\n",
        "from sklearn.metrics import accuracy_score\n",
        "\n",
        "auc_roc_score = roc_auc_score(y_true, y_pred_prob, multi_class='ovr')\n",
        "print(f\"AUC ROC Score: {auc_roc_score}\")\n",
        "accuracy = accuracy_score(y_true, y_pred)\n",
        "print(f\"Accuracy: {accuracy}\")"
      ]
    }
  ],
  "metadata": {
    "colab": {
      "provenance": [],
      "include_colab_link": true
    },
    "kernelspec": {
      "display_name": "Python 3",
      "name": "python3"
    },
    "language_info": {
      "name": "python"
    }
  },
  "nbformat": 4,
  "nbformat_minor": 0
}