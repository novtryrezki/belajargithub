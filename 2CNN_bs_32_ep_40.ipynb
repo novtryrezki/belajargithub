{
  "cells": [
    {
      "cell_type": "markdown",
      "metadata": {
        "id": "view-in-github",
        "colab_type": "text"
      },
      "source": [
        "<a href=\"https://colab.research.google.com/github/novtryrezki/belajargithub/blob/main/2CNN_bs_32_ep_40.ipynb\" target=\"_parent\"><img src=\"https://colab.research.google.com/assets/colab-badge.svg\" alt=\"Open In Colab\"/></a>"
      ]
    },
    {
      "cell_type": "code",
      "execution_count": 1,
      "metadata": {
        "id": "Gj0QELQHjUVZ"
      },
      "outputs": [],
      "source": [
        "import os\n",
        "import zipfile\n",
        "import random\n",
        "import shutil\n",
        "import numpy as np\n",
        "import tensorflow as tf\n",
        "import pandas as pd\n",
        "from google.colab import drive\n",
        "from sklearn.model_selection import train_test_split"
      ]
    },
    {
      "cell_type": "code",
      "execution_count": 2,
      "metadata": {
        "colab": {
          "base_uri": "https://localhost:8080/"
        },
        "id": "HXtZwYwdjXH4",
        "outputId": "41edf522-3d79-40fe-f75c-cfaa72368d03"
      },
      "outputs": [
        {
          "output_type": "stream",
          "name": "stdout",
          "text": [
            "Drive already mounted at /content/drive; to attempt to forcibly remount, call drive.mount(\"/content/drive\", force_remount=True).\n"
          ]
        }
      ],
      "source": [
        "# Melakukan mount pada Google Drive\n",
        "drive.mount('/content/drive')\n",
        "\n",
        "# Menentukan path file ZIP di Google Drive\n",
        "zip_path = '/content/drive/MyDrive/images.zip'\n",
        "\n",
        "# Membuat objek zip_ref\n",
        "zip_ref = zipfile.ZipFile(zip_path, 'r')\n",
        "\n",
        "# Mengekstrak file ZIP\n",
        "extract_path ='/content/images'\n",
        "zip_ref.extractall(extract_path)\n",
        "\n",
        "# Tutup objek zip_ref setelah selesai\n",
        "zip_ref.close()"
      ]
    },
    {
      "cell_type": "code",
      "execution_count": 3,
      "metadata": {
        "colab": {
          "base_uri": "https://localhost:8080/"
        },
        "id": "P9SpMwZxCMpv",
        "outputId": "5f1b74ea-6671-4fcf-b20d-6ecd1520504b"
      },
      "outputs": [
        {
          "output_type": "stream",
          "name": "stdout",
          "text": [
            "Daftar Angka pada Dataset Train yaitu :  ['angka 0', 'angka 1', 'angka 2', 'angka 3', 'angka 4', 'angka 5', 'angka 6', 'angka 7', 'angka 8', 'angka 9']\n",
            "Daftar Angka pada Dataset Test yaitu :  ['angka 0', 'angka 1', 'angka 2', 'angka 3', 'angka 4', 'angka 5', 'angka 6', 'angka 7', 'angka 8', 'angka 9']\n"
          ]
        }
      ],
      "source": [
        "# Mendefinisikan path direktori dataset\n",
        "dataset_dir = os.path.join(extract_path, 'images')\n",
        "train_dir = os.path.join(dataset_dir, 'train')\n",
        "test_dir = os.path.join(dataset_dir, 'test')\n",
        "list_train = sorted(os.listdir(train_dir))\n",
        "list_test = sorted(os.listdir(test_dir))\n",
        "\n",
        "print(\"Daftar Angka pada Dataset Train yaitu : \", list_train)\n",
        "print(\"Daftar Angka pada Dataset Test yaitu : \", list_test)"
      ]
    },
    {
      "cell_type": "code",
      "execution_count": 4,
      "metadata": {
        "colab": {
          "base_uri": "https://localhost:8080/"
        },
        "id": "JycQg0kGCHHe",
        "outputId": "6db785bc-ac74-4b23-d8b7-0168de3fd436"
      },
      "outputs": [
        {
          "output_type": "stream",
          "name": "stdout",
          "text": [
            "Jumlah gambar di Dataset Train: 1763\n",
            "Jumlah gambar di Dataset Test: 445\n"
          ]
        }
      ],
      "source": [
        "def count_images(directory):\n",
        "    return sum(1 for file in os.listdir(directory) if file.endswith(('.jpg', '.jpeg', '.png', '.gif')))\n",
        "\n",
        "# Menghitung jumlah gambar di data train\n",
        "train_image_count = sum(count_images(os.path.join(train_dir, angka)) for angka in list_train)\n",
        "\n",
        "# Menghitung jumlah gambar di data test\n",
        "test_image_count = sum(count_images(os.path.join(test_dir, angka)) for angka in list_test)\n",
        "\n",
        "print(f\"Jumlah gambar di Dataset Train: {train_image_count}\")\n",
        "print(f\"Jumlah gambar di Dataset Test: {test_image_count}\")"
      ]
    },
    {
      "cell_type": "markdown",
      "metadata": {
        "id": "Cs-YBymEElj8"
      },
      "source": [
        "# Preprocessing"
      ]
    },
    {
      "cell_type": "code",
      "execution_count": 5,
      "metadata": {
        "id": "j-iPjxpXF_bf"
      },
      "outputs": [],
      "source": [
        "import cv2\n",
        "\n",
        "def resize_images(directory, target_resolution):\n",
        "    for angka in os.listdir(directory):\n",
        "        angka_dir = os.path.join(directory, angka)\n",
        "        for file_name in os.listdir(angka_dir):\n",
        "            file_path = os.path.join(angka_dir, file_name)\n",
        "            img = cv2.imread(file_path)\n",
        "            resized_img = cv2.resize(img, (target_resolution, target_resolution))\n",
        "            cv2.imwrite(file_path, resized_img)\n",
        "\n",
        "target_resolution = 32\n",
        "resize_images(train_dir, target_resolution)\n",
        "resize_images(test_dir, target_resolution)"
      ]
    },
    {
      "cell_type": "code",
      "execution_count": 6,
      "metadata": {
        "colab": {
          "base_uri": "https://localhost:8080/"
        },
        "id": "MrR6ROkiF9Uj",
        "outputId": "caf08a72-5d45-473d-ba8f-611c1b7b540b"
      },
      "outputs": [
        {
          "output_type": "stream",
          "name": "stdout",
          "text": [
            "Found 1763 images belonging to 10 classes.\n",
            "Found 445 images belonging to 10 classes.\n"
          ]
        }
      ],
      "source": [
        "from tensorflow.keras.preprocessing.image import ImageDataGenerator\n",
        "\n",
        "# Membuat generator data dengan augmentasi\n",
        "image_size = (32, 32)\n",
        "batch_size = 32\n",
        "\n",
        "train_datagen = ImageDataGenerator(\n",
        "    rescale = 1./255,\n",
        "    rotation_range = 90,\n",
        "    width_shift_range = 0.2,\n",
        "    height_shift_range = 0.2,\n",
        "    zoom_range = 0.2,\n",
        ")\n",
        "\n",
        "test_datagen = ImageDataGenerator(\n",
        "    rescale=1./255,\n",
        ")\n",
        "\n",
        "train_generator = train_datagen.flow_from_directory(\n",
        "    train_dir,\n",
        "    target_size=image_size,\n",
        "    batch_size=batch_size,\n",
        "    class_mode='categorical',\n",
        "    color_mode='grayscale'\n",
        ")\n",
        "\n",
        "test_generator = test_datagen.flow_from_directory(\n",
        "    test_dir,\n",
        "    target_size=image_size,\n",
        "    batch_size=batch_size,\n",
        "    class_mode='categorical',\n",
        "    color_mode='grayscale'\n",
        ")"
      ]
    },
    {
      "cell_type": "markdown",
      "metadata": {
        "id": "gPqE7ywQJ01c"
      },
      "source": [
        "# Membuat Model CNN"
      ]
    },
    {
      "cell_type": "code",
      "execution_count": 7,
      "metadata": {
        "id": "SvNzs3QB71R6"
      },
      "outputs": [],
      "source": [
        "from tensorflow.keras.models import Sequential\n",
        "from tensorflow.keras.layers import Conv2D, AveragePooling2D, Flatten, Dense\n",
        "import math\n",
        "\n",
        "img_size = 32*32*1\n",
        "\n",
        "# Perhitungan jumlah neuron pada lapisan tersembunyi\n",
        "r1 = (img_size/10) ** (1/2)\n",
        "r2 = (img_size/10)**(1/3)\n",
        "\n",
        "hidden_neurons1 = 10 * r1**(2)\n",
        "hidden_neurons2 = 10 * r2**(1)\n",
        "\n",
        "model2c = Sequential()\n",
        "model2c.add(Conv2D(32, (3, 3), input_shape=(32, 32, 1)))\n",
        "model2c.add(AveragePooling2D((2, 2)))\n",
        "model2c.add(Conv2D(64, (3, 3)))\n",
        "model2c.add(AveragePooling2D((2, 2)))\n",
        "model2c.add(Flatten())\n",
        "model2c.add(Dense(hidden_neurons1, activation='relu'))\n",
        "model2c.add(Dense(hidden_neurons2, activation='relu'))\n",
        "model2c.add(Dense(10, activation='softmax'))\n",
        "\n",
        "model2c.compile(optimizer='SGD', loss='categorical_crossentropy', metrics=['accuracy'])"
      ]
    },
    {
      "cell_type": "code",
      "execution_count": 8,
      "metadata": {
        "id": "RfHd4NJznjOh",
        "colab": {
          "base_uri": "https://localhost:8080/"
        },
        "outputId": "bcbc5b8c-f010-4d08-a85a-b86738f0f1c3"
      },
      "outputs": [
        {
          "output_type": "stream",
          "name": "stdout",
          "text": [
            "Model: \"sequential\"\n",
            "_________________________________________________________________\n",
            " Layer (type)                Output Shape              Param #   \n",
            "=================================================================\n",
            " conv2d (Conv2D)             (None, 30, 30, 32)        320       \n",
            "                                                                 \n",
            " average_pooling2d (Average  (None, 15, 15, 32)        0         \n",
            " Pooling2D)                                                      \n",
            "                                                                 \n",
            " conv2d_1 (Conv2D)           (None, 13, 13, 64)        18496     \n",
            "                                                                 \n",
            " average_pooling2d_1 (Avera  (None, 6, 6, 64)          0         \n",
            " gePooling2D)                                                    \n",
            "                                                                 \n",
            " flatten (Flatten)           (None, 2304)              0         \n",
            "                                                                 \n",
            " dense (Dense)               (None, 1024)              2360320   \n",
            "                                                                 \n",
            " dense_1 (Dense)             (None, 46)                47150     \n",
            "                                                                 \n",
            " dense_2 (Dense)             (None, 10)                470       \n",
            "                                                                 \n",
            "=================================================================\n",
            "Total params: 2426756 (9.26 MB)\n",
            "Trainable params: 2426756 (9.26 MB)\n",
            "Non-trainable params: 0 (0.00 Byte)\n",
            "_________________________________________________________________\n"
          ]
        }
      ],
      "source": [
        "model2c.summary()"
      ]
    },
    {
      "cell_type": "code",
      "execution_count": 16,
      "metadata": {
        "id": "I_Klj8ReYASB",
        "colab": {
          "base_uri": "https://localhost:8080/"
        },
        "outputId": "6cb51852-486b-48fc-8ce0-26294adb9123"
      },
      "outputs": [
        {
          "output_type": "stream",
          "name": "stdout",
          "text": [
            "Epoch 1/40\n",
            "56/56 [==============================] - 4s 62ms/step - loss: 1.6146 - accuracy: 0.4549\n",
            "Epoch 2/40\n",
            "56/56 [==============================] - 3s 61ms/step - loss: 1.6128 - accuracy: 0.4651\n",
            "Epoch 3/40\n",
            "56/56 [==============================] - 5s 92ms/step - loss: 1.6110 - accuracy: 0.4674\n",
            "Epoch 4/40\n",
            "56/56 [==============================] - 4s 62ms/step - loss: 1.6106 - accuracy: 0.4668\n",
            "Epoch 5/40\n",
            "56/56 [==============================] - 3s 61ms/step - loss: 1.5900 - accuracy: 0.4702\n",
            "Epoch 6/40\n",
            "56/56 [==============================] - 5s 90ms/step - loss: 1.5916 - accuracy: 0.4657\n",
            "Epoch 7/40\n",
            "56/56 [==============================] - 3s 61ms/step - loss: 1.5669 - accuracy: 0.4827\n",
            "Epoch 8/40\n",
            "56/56 [==============================] - 3s 60ms/step - loss: 1.5505 - accuracy: 0.4935\n",
            "Epoch 9/40\n",
            "56/56 [==============================] - 5s 86ms/step - loss: 1.5370 - accuracy: 0.4889\n",
            "Epoch 10/40\n",
            "56/56 [==============================] - 3s 61ms/step - loss: 1.5201 - accuracy: 0.4906\n",
            "Epoch 11/40\n",
            "56/56 [==============================] - 3s 61ms/step - loss: 1.5206 - accuracy: 0.5009\n",
            "Epoch 12/40\n",
            "56/56 [==============================] - 5s 83ms/step - loss: 1.5333 - accuracy: 0.4940\n",
            "Epoch 13/40\n",
            "56/56 [==============================] - 3s 60ms/step - loss: 1.5145 - accuracy: 0.5139\n",
            "Epoch 14/40\n",
            "56/56 [==============================] - 4s 62ms/step - loss: 1.4767 - accuracy: 0.5218\n",
            "Epoch 15/40\n",
            "56/56 [==============================] - 5s 85ms/step - loss: 1.5003 - accuracy: 0.5060\n",
            "Epoch 16/40\n",
            "56/56 [==============================] - 4s 62ms/step - loss: 1.4452 - accuracy: 0.5235\n",
            "Epoch 17/40\n",
            "56/56 [==============================] - 4s 62ms/step - loss: 1.4874 - accuracy: 0.5235\n",
            "Epoch 18/40\n",
            "56/56 [==============================] - 4s 67ms/step - loss: 1.4729 - accuracy: 0.5184\n",
            "Epoch 19/40\n",
            "56/56 [==============================] - 4s 65ms/step - loss: 1.4687 - accuracy: 0.5230\n",
            "Epoch 20/40\n",
            "56/56 [==============================] - 3s 61ms/step - loss: 1.4445 - accuracy: 0.5355\n",
            "Epoch 21/40\n",
            "56/56 [==============================] - 4s 79ms/step - loss: 1.4390 - accuracy: 0.5360\n",
            "Epoch 22/40\n",
            "56/56 [==============================] - 4s 63ms/step - loss: 1.4286 - accuracy: 0.5315\n",
            "Epoch 23/40\n",
            "56/56 [==============================] - 4s 63ms/step - loss: 1.4026 - accuracy: 0.5536\n",
            "Epoch 24/40\n",
            "56/56 [==============================] - 5s 90ms/step - loss: 1.3888 - accuracy: 0.5440\n",
            "Epoch 25/40\n",
            "56/56 [==============================] - 4s 63ms/step - loss: 1.3967 - accuracy: 0.5491\n",
            "Epoch 26/40\n",
            "56/56 [==============================] - 4s 63ms/step - loss: 1.3688 - accuracy: 0.5632\n",
            "Epoch 27/40\n",
            "56/56 [==============================] - 5s 92ms/step - loss: 1.3831 - accuracy: 0.5542\n",
            "Epoch 28/40\n",
            "56/56 [==============================] - 3s 61ms/step - loss: 1.3219 - accuracy: 0.5808\n",
            "Epoch 29/40\n",
            "56/56 [==============================] - 4s 64ms/step - loss: 1.3362 - accuracy: 0.5735\n",
            "Epoch 30/40\n",
            "56/56 [==============================] - 4s 79ms/step - loss: 1.3461 - accuracy: 0.5564\n",
            "Epoch 31/40\n",
            "56/56 [==============================] - 4s 62ms/step - loss: 1.3328 - accuracy: 0.5769\n",
            "Epoch 32/40\n",
            "56/56 [==============================] - 4s 74ms/step - loss: 1.3605 - accuracy: 0.5649\n",
            "Epoch 33/40\n",
            "56/56 [==============================] - 4s 64ms/step - loss: 1.3055 - accuracy: 0.5780\n",
            "Epoch 34/40\n",
            "56/56 [==============================] - 4s 63ms/step - loss: 1.2908 - accuracy: 0.5797\n",
            "Epoch 35/40\n",
            "56/56 [==============================] - 5s 81ms/step - loss: 1.3348 - accuracy: 0.5808\n",
            "Epoch 36/40\n",
            "56/56 [==============================] - 4s 63ms/step - loss: 1.2984 - accuracy: 0.5910\n",
            "Epoch 37/40\n",
            "56/56 [==============================] - 4s 62ms/step - loss: 1.3066 - accuracy: 0.5854\n",
            "Epoch 38/40\n",
            "56/56 [==============================] - 5s 92ms/step - loss: 1.2807 - accuracy: 0.5978\n",
            "Epoch 39/40\n",
            "56/56 [==============================] - 4s 63ms/step - loss: 1.2900 - accuracy: 0.5848\n",
            "Epoch 40/40\n",
            "56/56 [==============================] - 6s 112ms/step - loss: 1.2851 - accuracy: 0.5933\n"
          ]
        }
      ],
      "source": [
        "history = model2c.fit(train_generator, epochs=40, verbose = 1)"
      ]
    },
    {
      "cell_type": "markdown",
      "metadata": {
        "id": "6VOcIXg0IvCs"
      },
      "source": [
        "#Matriks Konfusi"
      ]
    },
    {
      "cell_type": "code",
      "execution_count": 18,
      "metadata": {
        "colab": {
          "base_uri": "https://localhost:8080/",
          "height": 617
        },
        "id": "Lz5lA0bDIxJg",
        "outputId": "5c441a88-6ca3-47ec-c311-dda872ec254f"
      },
      "outputs": [
        {
          "output_type": "stream",
          "name": "stdout",
          "text": [
            "14/14 [==============================] - 1s 74ms/step\n"
          ]
        },
        {
          "output_type": "display_data",
          "data": {
            "text/plain": [
              "<Figure size 800x600 with 2 Axes>"
            ],
            "image/png": "[encoded data removed]"
          },
          "metadata": {}
        }
      ],
      "source": [
        "from sklearn.metrics import confusion_matrix, classification_report\n",
        "import seaborn as sns\n",
        "import matplotlib.pyplot as plt\n",
        "\n",
        "# Fungsi untuk mendapatkan prediksi model dan label sebenarnya\n",
        "def get_predictions_and_labels(model, data_generator):\n",
        "    predictions = model.predict(data_generator)\n",
        "    true_classes = data_generator.classes\n",
        "    return predictions, true_classes\n",
        "\n",
        "# Mendapatkan prediksi dan label sebenarnya untuk data uji\n",
        "y_pred_prob, y_true = get_predictions_and_labels(model2c, test_generator)\n",
        "y_pred = np.argmax(y_pred_prob, axis=1)\n",
        "\n",
        "# Membuat matriks konfusi\n",
        "cf_matrix = confusion_matrix(y_true, y_pred)\n",
        "\n",
        "# Membuat visualisasi matriks konfusi\n",
        "fig, ax = plt.subplots(figsize=(8, 6))\n",
        "sns.heatmap(cf_matrix, annot=True, fmt='g', cmap='Blues', ax=ax)\n",
        "\n",
        "# Menetapkan label dan judul\n",
        "ax.set_title('Confusion Matrix with labels')\n",
        "ax.set_xlabel('Predicted Values')\n",
        "ax.set_ylabel('Actual Values')\n",
        "\n",
        "class_labels = list(test_generator.class_indices.keys())\n",
        "\n",
        "# Menetapkan label pada sumbu x dan y sesuai dengan jenis kelas\n",
        "ax.xaxis.set_ticklabels(class_labels, rotation=45)\n",
        "ax.yaxis.set_ticklabels(class_labels, rotation=45)\n",
        "\n",
        "# Menampilkan visualisasi Matriks Konfusi\n",
        "plt.show()"
      ]
    },
    {
      "cell_type": "code",
      "execution_count": 20,
      "metadata": {
        "colab": {
          "base_uri": "https://localhost:8080/"
        },
        "id": "S7iwBJlGZEUM",
        "outputId": "2811cba5-0936-4510-843a-e664429dfeda"
      },
      "outputs": [
        {
          "output_type": "stream",
          "name": "stdout",
          "text": [
            "AUC ROC Score: 0.5070917224495212\n",
            "Accuracy: 0.21797752808988763\n"
          ]
        }
      ],
      "source": [
        "from sklearn.metrics import roc_auc_score\n",
        "from sklearn.metrics import accuracy_score\n",
        "\n",
        "auc_roc_score = roc_auc_score(y_true, y_pred_prob, multi_class='ovr')\n",
        "print(f\"AUC ROC Score: {auc_roc_score}\")\n",
        "accuracy = accuracy_score(y_true, y_pred)\n",
        "print(f\"Accuracy: {accuracy}\")"
      ]
    }
  ],
  "metadata": {
    "colab": {
      "provenance": [],
      "include_colab_link": true
    },
    "kernelspec": {
      "display_name": "Python 3",
      "name": "python3"
    },
    "language_info": {
      "name": "python"
    }
  },
  "nbformat": 4,
  "nbformat_minor": 0
}